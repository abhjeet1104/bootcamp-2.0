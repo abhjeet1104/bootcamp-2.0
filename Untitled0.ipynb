{
  "nbformat": 4,
  "nbformat_minor": 0,
  "metadata": {
    "colab": {
      "provenance": []
    },
    "kernelspec": {
      "name": "python3",
      "display_name": "Python 3"
    },
    "language_info": {
      "name": "python"
    }
  },
  "cells": [
    {
      "cell_type": "markdown",
      "source": [
        "# bootcamp 2.0 assingment 1"
      ],
      "metadata": {
        "id": "Pje2xBj25yss"
      }
    },
    {
      "cell_type": "markdown",
      "source": [
        "##1.Find out all the types of error that we have encountered in our lecture and why? Also include the examples.\n",
        "\n",
        "###Ans:\n",
        "NameError: name 'Print' is not defined\n",
        "\n",
        "SyntaxError: Missing parentheses in call to 'print'. Did you mean print(\"Good Evening\")?\n",
        "\n",
        "SyntaxError: EOL while scanning string literal\n",
        "\n",
        "SyntaxError: invalid syntax\n",
        "\n",
        "SyntaxError: can't assign to operator\n",
        "\n",
        " 10ten = 10\n",
        "        ^\n",
        "SyntaxError: invalid syntax\n",
        "\n",
        "TypeError: can only concatenate str (not \"int\") to str\n",
        "\n",
        "TypeError: can only concatenate str (not \"int\") to str\n",
        "\n",
        "TypeError: unsupported operand type(s) for +: 'int' and 'str'\n",
        "\n",
        "TypeError                                 Traceback (most recent call last)\n",
        "<ipython-input-77-6f0a8cb6799f> in <module>\n",
        "      5 year_of_birth = input(\"year_of_birth: \")\n",
        "      6 \n",
        "----> 7 age = 2022 - year_of_birth\n",
        "      8 \n",
        "      9 print(f\"\"\"\n",
        "\n",
        "TypeError: unsupported operand type(s) for -: 'int' and 'str'\n",
        "\n",
        "int A\n",
        "        ^\n",
        "SyntaxError: invalid syntax\n",
        "\n",
        "ValueError: invalid literal for int() with base 10: '10.2'\n",
        "\n",
        "ValueError: invalid literal for int() with base 10: '\n",
        "\n",
        "\n"
      ],
      "metadata": {
        "id": "f0L4w2ds5_Jb"
      }
    },
    {
      "cell_type": "markdown",
      "source": [
        "##2.Take input A and B and print their sum, mul, div, square of the nos.\n"
      ],
      "metadata": {
        "id": "UfPFVvuH9IPx"
      }
    },
    {
      "cell_type": "code",
      "source": [
        "A = 5\n",
        "B = 4\n",
        "print(A)\n",
        "print(B)\n",
        "print(A+B)\n",
        "print(A*B)\n",
        "print(A/B)\n",
        "\n"
      ],
      "metadata": {
        "colab": {
          "base_uri": "https://localhost:8080/"
        },
        "id": "Z9ESoNhQ9xaE",
        "outputId": "46ec9cc3-fdbc-4c0a-f6e2-81e1eb071abd"
      },
      "execution_count": 2,
      "outputs": [
        {
          "output_type": "stream",
          "name": "stdout",
          "text": [
            "5\n",
            "4\n",
            "9\n",
            "20\n",
            "1.25\n"
          ]
        }
      ]
    },
    {
      "cell_type": "markdown",
      "source": [
        "##3.How many reserve keywords are there in python and why we should not use them as a variable name.\n",
        " Ans : There are  33 reversed keywords are present in python\n",
        " we should not use them as a variable beacuse In Python, keywords are case sensitive. This number can vary slightly over the course of time.\n"
      ],
      "metadata": {
        "id": "N5YwFSe__LMv"
      }
    },
    {
      "cell_type": "markdown",
      "source": [
        "# 4.Create email ids with the user inputs. in the following format - lastname.firstname@gmail.com\n"
      ],
      "metadata": {
        "id": "IgNVNtPgADIu"
      }
    },
    {
      "cell_type": "code",
      "source": [
        "firstName,  lastname = \"Abhijeet\",  \"shandilya\""
      ],
      "metadata": {
        "id": "VRAOVetQBBJA"
      },
      "execution_count": 4,
      "outputs": []
    },
    {
      "cell_type": "code",
      "source": [
        "print(f\"{lastname}.{firstName}@gmail.com\") "
      ],
      "metadata": {
        "colab": {
          "base_uri": "https://localhost:8080/"
        },
        "id": "hHidsh2yAFII",
        "outputId": "e0e5906f-c54c-4c51-c57e-9d07891a0595"
      },
      "execution_count": 5,
      "outputs": [
        {
          "output_type": "stream",
          "name": "stdout",
          "text": [
            "shandilya.Abhijeet@gmail.com\n"
          ]
        }
      ]
    },
    {
      "cell_type": "markdown",
      "source": [
        "# 5 Try to print the following lines -\n",
        "Hi I'm Sunny\n",
        "\n",
        "My address is 22\\3\n",
        "\n",
        "I earn 20$ daily."
      ],
      "metadata": {
        "id": "6vPpzxwLB8vW"
      }
    },
    {
      "cell_type": "code",
      "source": [
        "print(f\"\"\"\n",
        "hi i`m sunny\n",
        "my address is 22\\3\n",
        "i earn 20$ daily\n",
        "\"\"\")"
      ],
      "metadata": {
        "colab": {
          "base_uri": "https://localhost:8080/"
        },
        "id": "DVjb9PGGB_t2",
        "outputId": "62f228c9-b4d8-47bf-b089-3902a4a80e32"
      },
      "execution_count": 6,
      "outputs": [
        {
          "output_type": "stream",
          "name": "stdout",
          "text": [
            "\n",
            "hi i`m sunny\n",
            "my address is 22\u0003\n",
            "i earn 20$ daily\n",
            "\n"
          ]
        }
      ]
    },
    {
      "cell_type": "markdown",
      "source": [
        "#6.Take user input (name, address, date of birth etc) to fill a form for your college and print their email IDs\n"
      ],
      "metadata": {
        "id": "9rhNprHFCkXE"
      }
    },
    {
      "cell_type": "code",
      "source": [
        "Name = input(\"Name: \") \n",
        "address = input(\"address: \")\n",
        "date_of_birth = input(\"date_of_birth: \")\n",
        "branch = input(\"branch: \")\n"
      ],
      "metadata": {
        "colab": {
          "base_uri": "https://localhost:8080/"
        },
        "id": "eMMHUcuTCnqO",
        "outputId": "70b7ece1-5ea6-4777-cd6a-6084f70bc45b"
      },
      "execution_count": 18,
      "outputs": [
        {
          "name": "stdout",
          "output_type": "stream",
          "text": [
            "Name: rajat\n",
            "address: patna\n",
            "date_of_birth: 27\\10\\2000\n",
            "branch: cse\n"
          ]
        }
      ]
    },
    {
      "cell_type": "markdown",
      "source": [
        "#7 Convert the following -\n",
        "\"22.4\" into integer\n",
        "\n",
        "\"22\" into complex no.\n"
      ],
      "metadata": {
        "id": "hJhrOdIOIQS8"
      }
    },
    {
      "cell_type": "code",
      "source": [],
      "metadata": {
        "id": "sdIDNTTwIRTh"
      },
      "execution_count": null,
      "outputs": []
    }
  ]
}